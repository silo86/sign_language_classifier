{
  "cells": [
    {
      "cell_type": "markdown",
      "metadata": {
        "id": "view-in-github",
        "colab_type": "text"
      },
      "source": [
        "<a href=\"https://colab.research.google.com/github/silo86/sign_language_classifier/blob/main/sign_language_classifier.ipynb\" target=\"_parent\"><img src=\"https://colab.research.google.com/assets/colab-badge.svg\" alt=\"Open In Colab\"/></a>"
      ]
    },
    {
      "cell_type": "code",
      "execution_count": null,
      "metadata": {
        "id": "7ntEyUA3CVj5"
      },
      "outputs": [],
      "source": [
        "import numpy as np\n",
        "import pandas as pd\n",
        "import os\n",
        "import zipfile\n",
        "import csv\n",
        "import tensorflow as tf\n",
        "from matplotlib import pyplot as plt\n",
        "#from tensorflow.keras import layers\n",
        "#from tensorflow.keras import Model\n",
        "from tensorflow.keras.preprocessing.image import ImageDataGenerator\n"
      ]
    },
    {
      "cell_type": "code",
      "execution_count": null,
      "metadata": {
        "colab": {
          "base_uri": "https://localhost:8080/"
        },
        "id": "5WNTH7rCC31h",
        "outputId": "11821b29-8410-4d5e-ea04-cb389898a14e"
      },
      "outputs": [
        {
          "name": "stdout",
          "output_type": "stream",
          "text": [
            "Drive already mounted at /content/drive; to attempt to forcibly remount, call drive.mount(\"/content/drive\", force_remount=True).\n"
          ]
        }
      ],
      "source": [
        "from google.colab import drive\n",
        "drive.mount('/content/drive')"
      ]
    },
    {
      "cell_type": "code",
      "execution_count": null,
      "metadata": {
        "colab": {
          "base_uri": "https://localhost:8080/"
        },
        "id": "EraBDDO4EHl5",
        "outputId": "92da9386-1632-4cfe-d07e-76840739b8fc"
      },
      "outputs": [
        {
          "name": "stdout",
          "output_type": "stream",
          "text": [
            " american_sign_language.PNG   archive.zip         sign_mnist_test.csv\n",
            " amer_sign2.png              'sign MNIST.ipynb'   \u001b[0m\u001b[01;34msign_mnist_train\u001b[0m/\n",
            " amer_sign3.png               \u001b[01;34msign_mnist_test\u001b[0m/    sign_mnist_train.csv\n"
          ]
        }
      ],
      "source": [
        "%ls drive/MyDrive/Colab\\ Notebooks/Kaggle\\ practice/Sign\\ MNIST"
      ]
    },
    {
      "cell_type": "code",
      "execution_count": null,
      "metadata": {
        "id": "PvpLBafqF6B6"
      },
      "outputs": [],
      "source": [
        "zip_path = 'drive/MyDrive/Colab Notebooks/Kaggle practice/Sign MNIST'\n",
        "zip_ref = zipfile.ZipFile(os.path.join(zip_path,'archive.zip'), 'r')\n",
        "zip_ref.extractall(zip_path)\n",
        "zip_ref.close()"
      ]
    },
    {
      "cell_type": "code",
      "execution_count": null,
      "metadata": {
        "id": "i26p678AGppv"
      },
      "outputs": [],
      "source": [
        "os.chdir(zip_path)"
      ]
    },
    {
      "cell_type": "code",
      "execution_count": null,
      "metadata": {
        "id": "FzwhYudxzV0H"
      },
      "outputs": [],
      "source": [
        "cwd = os.getcwd()"
      ]
    },
    {
      "cell_type": "code",
      "execution_count": null,
      "metadata": {
        "colab": {
          "base_uri": "https://localhost:8080/"
        },
        "id": "L1kXZb4IFpPC",
        "outputId": "a9879ae2-07e8-4979-c4fa-b429f4f53d4d"
      },
      "outputs": [
        {
          "name": "stdout",
          "output_type": "stream",
          "text": [
            " american_sign_language.PNG   archive.zip         sign_mnist_test.csv\n",
            " amer_sign2.png              'sign MNIST.ipynb'   \u001b[0m\u001b[01;34msign_mnist_train\u001b[0m/\n",
            " amer_sign3.png               \u001b[01;34msign_mnist_test\u001b[0m/    sign_mnist_train.csv\n"
          ]
        }
      ],
      "source": [
        "%ls "
      ]
    },
    {
      "cell_type": "code",
      "execution_count": null,
      "metadata": {
        "id": "_C4DRsi-xiEa"
      },
      "outputs": [],
      "source": [
        "train = os.path.join(cwd,'sign_mnist_train')\n",
        "test = os.path.join(cwd,'sign_mnist_test')"
      ]
    },
    {
      "cell_type": "code",
      "execution_count": null,
      "metadata": {
        "colab": {
          "base_uri": "https://localhost:8080/"
        },
        "id": "bJnGZisdydWM",
        "outputId": "ba665544-fb15-4939-9787-dca2d5000e78"
      },
      "outputs": [
        {
          "name": "stdout",
          "output_type": "stream",
          "text": [
            "(27455, 785) (7172, 785)\n",
            "(27455, 784) (7172, 784)\n"
          ]
        }
      ],
      "source": [
        "train_data = pd.read_csv(os.path.join(train,'sign_mnist_train.csv'))\n",
        "test_data = pd.read_csv(os.path.join(test,'sign_mnist_test.csv'))\n",
        "y_train = train_data['label']\n",
        "y_test = test_data['label']\n",
        "print(train_data.shape, test_data.shape)\n",
        "train_data.drop('label', axis = 1, inplace = True)\n",
        "test_data.drop('label', axis = 1, inplace = True)\n",
        "print(train_data.shape,test_data.shape)"
      ]
    },
    {
      "cell_type": "code",
      "execution_count": null,
      "metadata": {
        "id": "TETWkFynxgxw"
      },
      "outputs": [],
      "source": [
        "x_train = train_data.values.reshape(train_data.shape[0],28,28)\n",
        "x_test = test_data.values.reshape(test_data.shape[0],28,28)\n",
        "x_train = x_train.astype('float32')\n",
        "x_test = x_test.astype('float32')\n",
        "#x_train /= 255\n",
        "#x_test /= 255"
      ]
    },
    {
      "cell_type": "code",
      "execution_count": null,
      "metadata": {
        "colab": {
          "base_uri": "https://localhost:8080/",
          "height": 267
        },
        "id": "z88KLxAyId-I",
        "outputId": "87e438b7-b314-47cc-c276-333a6eeea54d"
      },
      "outputs": [
        {
          "data": {
            "image/png": "[encoded data removed]",
            "text/plain": [
              "<Figure size 432x288 with 6 Axes>"
            ]
          },
          "metadata": {},
          "output_type": "display_data"
        }
      ],
      "source": [
        "for i in range(6):\n",
        "  plt.subplot(2,3,i+1)\n",
        "  plt.imshow(x_train[i+1])"
      ]
    },
    {
      "cell_type": "code",
      "execution_count": null,
      "metadata": {
        "colab": {
          "base_uri": "https://localhost:8080/",
          "height": 282
        },
        "id": "RFRGT1OwXcLZ",
        "outputId": "f6ed139d-2f0b-499e-fa92-4c810ebc5a36"
      },
      "outputs": [
        {
          "data": {
            "text/plain": [
              "<matplotlib.image.AxesImage at 0x7f1bb7ddde50>"
            ]
          },
          "execution_count": 12,
          "metadata": {},
          "output_type": "execute_result"
        },
        {
          "data": {
            "image/png": "[encoded data removed]",
            "text/plain": [
              "<Figure size 432x288 with 1 Axes>"
            ]
          },
          "metadata": {},
          "output_type": "display_data"
        }
      ],
      "source": [
        "plt.imshow(x_train[0])"
      ]
    },
    {
      "cell_type": "code",
      "execution_count": null,
      "metadata": {
        "colab": {
          "base_uri": "https://localhost:8080/"
        },
        "id": "F3zF6qeF6xxw",
        "outputId": "a6f40f5c-c824-470e-dd4f-8b35a9e10d08"
      },
      "outputs": [
        {
          "name": "stdout",
          "output_type": "stream",
          "text": [
            "(27455, 28, 28, 1) (7172, 28, 28, 1)\n"
          ]
        }
      ],
      "source": [
        "#you need to add another dimension to the data\n",
        "x_train = train_data.values.reshape(train_data.shape[0],28,28,1)\n",
        "x_test = test_data.values.reshape(test_data.shape[0],28,28,1)\n",
        "print(x_train.shape,x_test.shape)"
      ]
    },
    {
      "cell_type": "code",
      "execution_count": null,
      "metadata": {
        "id": "LcJ2S6mP674b"
      },
      "outputs": [],
      "source": [
        "train_datagen = ImageDataGenerator(rescale=1/255,\n",
        "                                    rotation_range=40,\n",
        "                                    width_shift_range = 0.2,\n",
        "                                    height_shift_range = 0.2,\n",
        "                                    zoom_range=0.2,\n",
        "                                    shear_range=0.2,\n",
        "                                    horizontal_flip = True,\n",
        "                                    fill_mode='nearest'\n",
        "                                    \n",
        ")\n",
        "validation_datagen=ImageDataGenerator(rescale=1/255)"
      ]
    },
    {
      "cell_type": "code",
      "execution_count": null,
      "metadata": {
        "id": "KrzR6OtceX31"
      },
      "outputs": [],
      "source": [
        "train_generator= train_datagen.flow(x_train,\n",
        "                                    y_train,\n",
        "                                    batch_size=32\n",
        "    \n",
        ")\n",
        "validation_generator= validation_datagen.flow(x_test,\n",
        "                                    y_test,\n",
        "                                    batch_size=32\n",
        "    \n",
        ")"
      ]
    },
    {
      "cell_type": "code",
      "execution_count": null,
      "metadata": {
        "id": "LdCqs_HBf-76"
      },
      "outputs": [],
      "source": [
        "class myCallback(tf.keras.callbacks.Callback):\n",
        "  def on_epoch_end(self,epoch,logs={}):\n",
        "    if logs.get('acc')>0.98:\n",
        "      print('reached 98% accuracy, stop training')\n",
        "      self.model.stop_training=True\n",
        "callbacks=myCallback()"
      ]
    },
    {
      "cell_type": "code",
      "execution_count": null,
      "metadata": {
        "id": "vL4aH1MhhtX9"
      },
      "outputs": [],
      "source": [
        "from keras.callbacks import ModelCheckpoint\n",
        "filepath=\"Sign_language_detection.hdf5\"\n",
        "checkpoint = ModelCheckpoint(filepath, monitor='val_accuracy', verbose=2, save_best_only=True, mode='max',patience=3)\n",
        "callbacks = [checkpoint]"
      ]
    },
    {
      "cell_type": "code",
      "execution_count": null,
      "metadata": {
        "id": "lUnvb6Ga3j8T"
      },
      "outputs": [],
      "source": [
        "model=tf.keras.Sequential([\n",
        "                      tf.keras.layers.Conv2D(64,(3,3),activation='relu',input_shape=(28,28,1)),\n",
        "                      tf.keras.layers.MaxPooling2D(2,2),\n",
        "                      tf.keras.layers.Conv2D(64,(3,3),activation='relu'),\n",
        "                      tf.keras.layers.MaxPooling2D(2,2),\n",
        "                      tf.keras.layers.Dropout(0.25),\n",
        "                      tf.keras.layers.Flatten(),\n",
        "                      tf.keras.layers.Dense(512,activation='relu'),\n",
        "                      tf.keras.layers.Dropout(0.25),\n",
        "                      tf.keras.layers.Dense(26,activation='softmax')\n",
        "\n",
        "]\n",
        ")"
      ]
    },
    {
      "cell_type": "code",
      "execution_count": null,
      "metadata": {
        "colab": {
          "base_uri": "https://localhost:8080/"
        },
        "id": "UZc0INUCNBhq",
        "outputId": "0eeb05f2-c832-458e-895e-1458d8bc6eab"
      },
      "outputs": [
        {
          "name": "stdout",
          "output_type": "stream",
          "text": [
            "Model: \"sequential_3\"\n",
            "_________________________________________________________________\n",
            "Layer (type)                 Output Shape              Param #   \n",
            "=================================================================\n",
            "conv2d_6 (Conv2D)            (None, 26, 26, 64)        640       \n",
            "_________________________________________________________________\n",
            "max_pooling2d_6 (MaxPooling2 (None, 13, 13, 64)        0         \n",
            "_________________________________________________________________\n",
            "conv2d_7 (Conv2D)            (None, 11, 11, 64)        36928     \n",
            "_________________________________________________________________\n",
            "max_pooling2d_7 (MaxPooling2 (None, 5, 5, 64)          0         \n",
            "_________________________________________________________________\n",
            "dropout_4 (Dropout)          (None, 5, 5, 64)          0         \n",
            "_________________________________________________________________\n",
            "flatten_3 (Flatten)          (None, 1600)              0         \n",
            "_________________________________________________________________\n",
            "dense_6 (Dense)              (None, 512)               819712    \n",
            "_________________________________________________________________\n",
            "dropout_5 (Dropout)          (None, 512)               0         \n",
            "_________________________________________________________________\n",
            "dense_7 (Dense)              (None, 26)                13338     \n",
            "=================================================================\n",
            "Total params: 870,618\n",
            "Trainable params: 870,618\n",
            "Non-trainable params: 0\n",
            "_________________________________________________________________\n"
          ]
        }
      ],
      "source": [
        "model.summary()"
      ]
    },
    {
      "cell_type": "code",
      "execution_count": null,
      "metadata": {
        "id": "23Vs4vDD5TsT"
      },
      "outputs": [],
      "source": [
        "model.compile(\n",
        "               optimizer='rmsprop',\n",
        "               loss='sparse_categorical_crossentropy',\n",
        "               metrics= ['acc']\n",
        ")"
      ]
    },
    {
      "cell_type": "code",
      "execution_count": null,
      "metadata": {
        "colab": {
          "base_uri": "https://localhost:8080/"
        },
        "id": "JTsV4XBFM4CC",
        "outputId": "b2418052-12ae-4500-b92e-92c1d2a93283"
      },
      "outputs": [
        {
          "data": {
            "text/plain": [
              "<KerasTensor: shape=(None, 28, 28, 1) dtype=float32 (created by layer 'conv2d_6_input')>"
            ]
          },
          "execution_count": 44,
          "metadata": {},
          "output_type": "execute_result"
        }
      ],
      "source": [
        "model.input"
      ]
    },
    {
      "cell_type": "code",
      "execution_count": null,
      "metadata": {
        "colab": {
          "background_save": true,
          "base_uri": "https://localhost:8080/"
        },
        "id": "k2-nfA98f0Qh",
        "outputId": "58578ddb-824e-4e4c-d7d6-dd36147d9077"
      },
      "outputs": [
        {
          "name": "stdout",
          "output_type": "stream",
          "text": [
            "Epoch 1/20\n",
            "857/857 [==============================] - 63s 66ms/step - loss: 2.7359 - acc: 0.1674 - val_loss: 1.8201 - val_acc: 0.4084\n",
            "WARNING:tensorflow:Can save best model only with val_accuracy available, skipping.\n",
            "Epoch 2/20\n",
            "857/857 [==============================] - 57s 66ms/step - loss: 2.0121 - acc: 0.3628 - val_loss: 1.0655 - val_acc: 0.6372\n",
            "WARNING:tensorflow:Can save best model only with val_accuracy available, skipping.\n",
            "Epoch 3/20\n",
            "857/857 [==============================] - 57s 66ms/step - loss: 1.6037 - acc: 0.4857 - val_loss: 0.7889 - val_acc: 0.7641\n",
            "WARNING:tensorflow:Can save best model only with val_accuracy available, skipping.\n",
            "Epoch 4/20\n",
            "857/857 [==============================] - 56s 65ms/step - loss: 1.3634 - acc: 0.5532 - val_loss: 0.6203 - val_acc: 0.7929\n",
            "WARNING:tensorflow:Can save best model only with val_accuracy available, skipping.\n",
            "Epoch 5/20\n",
            "857/857 [==============================] - 56s 65ms/step - loss: 1.2078 - acc: 0.6042 - val_loss: 0.6374 - val_acc: 0.7791\n",
            "WARNING:tensorflow:Can save best model only with val_accuracy available, skipping.\n",
            "Epoch 6/20\n",
            "857/857 [==============================] - 54s 63ms/step - loss: 1.0836 - acc: 0.6429 - val_loss: 0.4586 - val_acc: 0.8299\n",
            "WARNING:tensorflow:Can save best model only with val_accuracy available, skipping.\n",
            "Epoch 7/20\n",
            "857/857 [==============================] - 55s 64ms/step - loss: 1.0107 - acc: 0.6688 - val_loss: 0.4116 - val_acc: 0.8694\n",
            "WARNING:tensorflow:Can save best model only with val_accuracy available, skipping.\n",
            "Epoch 8/20\n",
            "857/857 [==============================] - 54s 63ms/step - loss: 0.9541 - acc: 0.6919 - val_loss: 0.3155 - val_acc: 0.8898\n",
            "WARNING:tensorflow:Can save best model only with val_accuracy available, skipping.\n",
            "Epoch 9/20\n",
            "857/857 [==============================] - 55s 64ms/step - loss: 0.8963 - acc: 0.7057 - val_loss: 0.3066 - val_acc: 0.9133\n",
            "WARNING:tensorflow:Can save best model only with val_accuracy available, skipping.\n",
            "Epoch 10/20\n",
            "857/857 [==============================] - 55s 64ms/step - loss: 0.8583 - acc: 0.7190 - val_loss: 0.3658 - val_acc: 0.8735\n",
            "WARNING:tensorflow:Can save best model only with val_accuracy available, skipping.\n",
            "Epoch 11/20\n",
            "857/857 [==============================] - 55s 64ms/step - loss: 0.8320 - acc: 0.7300 - val_loss: 0.2753 - val_acc: 0.9212\n",
            "WARNING:tensorflow:Can save best model only with val_accuracy available, skipping.\n",
            "Epoch 12/20\n",
            "857/857 [==============================] - 54s 63ms/step - loss: 0.8115 - acc: 0.7349 - val_loss: 0.2734 - val_acc: 0.8950\n",
            "WARNING:tensorflow:Can save best model only with val_accuracy available, skipping.\n",
            "Epoch 13/20\n",
            "857/857 [==============================] - 54s 63ms/step - loss: 0.8048 - acc: 0.7425 - val_loss: 0.2574 - val_acc: 0.9119\n",
            "WARNING:tensorflow:Can save best model only with val_accuracy available, skipping.\n",
            "Epoch 14/20\n",
            "857/857 [==============================] - 54s 63ms/step - loss: 0.7846 - acc: 0.7434 - val_loss: 0.2127 - val_acc: 0.9382\n",
            "WARNING:tensorflow:Can save best model only with val_accuracy available, skipping.\n",
            "Epoch 15/20\n",
            "857/857 [==============================] - 54s 63ms/step - loss: 0.7751 - acc: 0.7514 - val_loss: 0.2053 - val_acc: 0.9405\n",
            "WARNING:tensorflow:Can save best model only with val_accuracy available, skipping.\n",
            "Epoch 16/20\n",
            "857/857 [==============================] - 55s 64ms/step - loss: 0.7686 - acc: 0.7560 - val_loss: 0.2175 - val_acc: 0.9271\n",
            "WARNING:tensorflow:Can save best model only with val_accuracy available, skipping.\n",
            "Epoch 17/20\n",
            "857/857 [==============================] - 54s 63ms/step - loss: 0.7613 - acc: 0.7595 - val_loss: 0.2139 - val_acc: 0.9260\n",
            "WARNING:tensorflow:Can save best model only with val_accuracy available, skipping.\n",
            "Epoch 18/20\n",
            "857/857 [==============================] - 55s 64ms/step - loss: 0.7626 - acc: 0.7552 - val_loss: 0.1652 - val_acc: 0.9417\n",
            "WARNING:tensorflow:Can save best model only with val_accuracy available, skipping.\n",
            "Epoch 19/20\n",
            "857/857 [==============================] - 55s 64ms/step - loss: 0.7551 - acc: 0.7606 - val_loss: 0.3914 - val_acc: 0.8801\n",
            "WARNING:tensorflow:Can save best model only with val_accuracy available, skipping.\n",
            "Epoch 20/20\n",
            "857/857 [==============================] - 55s 64ms/step - loss: 0.7342 - acc: 0.7680 - val_loss: 0.1810 - val_acc: 0.9442\n",
            "WARNING:tensorflow:Can save best model only with val_accuracy available, skipping.\n",
            "CPU times: user 32min 10s, sys: 47.9 s, total: 32min 58s\n",
            "Wall time: 24min 17s\n"
          ]
        }
      ],
      "source": [
        "%%time\n",
        "history = model.fit(train_generator,\n",
        "                    epochs=20,\n",
        "                    steps_per_epoch=x_train.shape[0]/32,\n",
        "                    validation_steps = x_test.shape[0]/32,\n",
        "                    validation_data = validation_generator,\n",
        "                    callbacks=[callbacks]\n",
        ")"
      ]
    },
    {
      "cell_type": "code",
      "execution_count": null,
      "metadata": {
        "colab": {
          "base_uri": "https://localhost:8080/"
        },
        "id": "7NmZw8o5dJwd",
        "outputId": "093d240b-8b9e-429c-9b2d-1c59a740aabd"
      },
      "outputs": [
        {
          "data": {
            "text/plain": [
              "array([ 3,  6,  2, 13, 16,  8, 22, 18, 10, 20, 17, 19, 21, 23, 24,  1, 12,\n",
              "       11, 15,  4,  0,  5,  7, 14])"
            ]
          },
          "execution_count": 29,
          "metadata": {},
          "output_type": "execute_result"
        }
      ],
      "source": [
        "unicos = y_train.unique()\n",
        "unicos"
      ]
    },
    {
      "cell_type": "code",
      "execution_count": null,
      "metadata": {
        "colab": {
          "base_uri": "https://localhost:8080/"
        },
        "id": "uMRJcQkBdezO",
        "outputId": "71fd5082-2ee7-4053-e55a-ea6b4b8858c8"
      },
      "outputs": [
        {
          "data": {
            "text/plain": [
              "[0,\n",
              " 1,\n",
              " 2,\n",
              " 3,\n",
              " 4,\n",
              " 5,\n",
              " 6,\n",
              " 7,\n",
              " 8,\n",
              " 10,\n",
              " 11,\n",
              " 12,\n",
              " 13,\n",
              " 14,\n",
              " 15,\n",
              " 16,\n",
              " 17,\n",
              " 18,\n",
              " 19,\n",
              " 20,\n",
              " 21,\n",
              " 22,\n",
              " 23,\n",
              " 24]"
            ]
          },
          "execution_count": 32,
          "metadata": {},
          "output_type": "execute_result"
        }
      ],
      "source": [
        "sorted(unicos)"
      ]
    },
    {
      "cell_type": "code",
      "execution_count": null,
      "metadata": {
        "id": "twQUUwqYYYJP"
      },
      "outputs": [],
      "source": [
        "model.evaluate(x_test,y_test,batch_size=32)"
      ]
    },
    {
      "cell_type": "code",
      "execution_count": null,
      "metadata": {
        "id": "M5fcHfop1g6I"
      },
      "outputs": [],
      "source": [
        "plt.plot(history.history['loss'],'r')\n",
        "plt.plot(history.history['val_loss'],'b')\n",
        "plt.title('Training vs validation losses',size='20')\n",
        "plt.xlabel('epoch')\n",
        "plt.ylabel('loss')"
      ]
    },
    {
      "cell_type": "code",
      "execution_count": null,
      "metadata": {
        "id": "j1Ca-ex70unl"
      },
      "outputs": [],
      "source": [
        "plt.plot(history.history['acc'],'r')\n",
        "plt.plot(history.history['val_acc'],'b')\n",
        "plt.title('Training vs validation accuracy',size='20')\n",
        "plt.xlabel('epoch')\n",
        "plt.ylabel('accuracy')"
      ]
    },
    {
      "cell_type": "code",
      "execution_count": null,
      "metadata": {
        "id": "cnspjKFB--W1"
      },
      "outputs": [],
      "source": [
        "np.expand_dims(x_train[0], axis=0).shape"
      ]
    },
    {
      "cell_type": "code",
      "execution_count": null,
      "metadata": {
        "id": "fGVOd6UQ1-JW"
      },
      "outputs": [],
      "source": [
        "letters = ['A','B','C','D','E','F','G','H','I','K','L','M','N','O','P','Q','R','S','T','U','V','W','X','Y']\n",
        "def classify(custom_array):\n",
        "  pred = model.predict(\n",
        "      np.expand_dims(custom_array, axis=0)\n",
        "  )\n",
        "  print(len(pred[0]))\n",
        "  index = np.argmax(pred)\n",
        "  return letters[index]"
      ]
    },
    {
      "cell_type": "code",
      "execution_count": null,
      "metadata": {
        "id": "dn7obwHNZ45d"
      },
      "outputs": [],
      "source": [
        "len(letters)"
      ]
    },
    {
      "cell_type": "code",
      "execution_count": null,
      "metadata": {
        "id": "xZtmAsxq2Q8n"
      },
      "outputs": [],
      "source": [
        "y_test[1]"
      ]
    },
    {
      "cell_type": "code",
      "execution_count": null,
      "metadata": {
        "id": "hw9CP7eGZoK_"
      },
      "outputs": [],
      "source": [
        "classify(x_train[4])"
      ]
    },
    {
      "cell_type": "code",
      "execution_count": null,
      "metadata": {
        "id": "F6OByxwBa13C"
      },
      "outputs": [],
      "source": [
        "len(x_train[0])"
      ]
    },
    {
      "cell_type": "code",
      "execution_count": null,
      "metadata": {
        "id": "4ptoLzx732n5"
      },
      "outputs": [],
      "source": [
        "plt.imshow(x_test[0].reshape(28,28), cmap='gray')"
      ]
    }
  ],
  "metadata": {
    "colab": {
      "collapsed_sections": [],
      "name": "sign language_classifier.ipynb",
      "provenance": [],
      "authorship_tag": "ABX9TyObb67uv+qY4dFHAUPCWQsw",
      "include_colab_link": true
    },
    "kernelspec": {
      "display_name": "Python 3",
      "name": "python3"
    },
    "language_info": {
      "name": "python"
    }
  },
  "nbformat": 4,
  "nbformat_minor": 0
}